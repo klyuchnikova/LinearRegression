{
 "cells": [
  {
   "cell_type": "markdown",
   "metadata": {},
   "source": [
    "\n",
    "<p>Задание заключается в том, чтобы написать код, который требуется в ячейках ###ваш код здесь</p>\n"
   ]
  },
  {
   "cell_type": "code",
   "execution_count": 43,
   "metadata": {},
   "outputs": [],
   "source": [
    "import numpy as np\n",
    "import pandas as pd\n",
    "import matplotlib.pyplot as plt\n",
    "\n",
    "from math import log\n",
    "\n",
    "%matplotlib inline"
   ]
  },
  {
   "cell_type": "markdown",
   "metadata": {},
   "source": [
    "\n",
    "<h3 id=\"Вероятности\">Вероятности<a class=\"anchor-link\" href=\"#Вероятности\">¶</a></h3>\n"
   ]
  },
  {
   "cell_type": "markdown",
   "metadata": {},
   "source": [
    "\n",
    "<h3 id=\"Метод-максимального-правдоподобия\">Метод максимального правдоподобия<a class=\"anchor-link\" href=\"#Метод-максимального-правдоподобия\">¶</a></h3><p>А теперь допустим, что мы не знаем какая из граней утяжелённая. Всё, что у нас есть - это 1000 бросков этой кости. Как понять, какую грань утяжелили? Можно применить метод максимального правдоподобия (далее ММП). В данном случае, это стрелять из пушки по воробьям, ведь можно просто посмотреть, какая грань чаще всего выпала. Но зато очень наглядно.</p>\n"
   ]
  },
  {
   "cell_type": "markdown",
   "metadata": {},
   "source": [
    "\n",
    "<p>У нашего замысловатого распределения $p$ есть два параметра: та грань, которую утяжелили, и кол-во граней. Кол-во граней известно заранее, поэтому его трогать не будем. Назовём грань, которую утяжелили - $\\theta$. По формуле получаем оценку максимального правдоподобия для этого параметра $\\theta_{ОМП}$:\n",
    "$$\\theta_{ОМП}=argmax_\\theta P(X|\\theta)$$</p>\n"
   ]
  },
  {
   "cell_type": "markdown",
   "metadata": {},
   "source": [
    "\n",
    "<p>$P(X|\\theta)$ - вероятность нашей выборки при конкретном параметре $\\theta$. Учитывая то, что все эксперименты были независимыми, то можно её расписать как произведение вероятностей: $$P(X|\\theta)=\\prod_{i=0}^{N-1}P(\\xi=x_i|\\theta)$$\n",
    "$\\xi$ - это случайная величина броска игральной кости, а $x_i$ - результаты i-го броска (в нашем случае это элементы массива results).</p>\n"
   ]
  },
  {
   "cell_type": "markdown",
   "metadata": {},
   "source": [
    "\n",
    "<p>$P(\\xi=x_i|\\theta) = 2/7$, если $x_i=\\theta$, и $1/7$ в других случаях. Переберите всевозможные параметры $\\theta$, выведите все вероятности и найдите самую большую.</p>\n"
   ]
  },
  {
   "cell_type": "markdown",
   "metadata": {},
   "source": [
    "\n",
    "<p>Совет: используйте не $P(X|\\theta)$, а возьмите логарифм: $$log(P(X|\\theta))=\\sum_{i=0}^{N-1}log(P(\\xi=x_i|\\theta))$$ Т.к. при умножении большого кол-ва чисел меньше 1 результат будет очень маленьким, и компьютер выставит просто 0.</p>\n"
   ]
  },
  {
   "cell_type": "code",
   "execution_count": 42,
   "metadata": {},
   "outputs": [],
   "source": [
    "# свойства log: log a (b*c) = log a (b) + log a (c)"
   ]
  },
  {
   "cell_type": "code",
   "execution_count": 43,
   "metadata": {},
   "outputs": [
    {
     "name": "stdout",
     "output_type": "stream",
     "text": [
      "1 -1843.3243663324674\n",
      "2 -1851.642132499185\n",
      "3 -1841.2449247907866\n",
      "4 -1860.653045846469\n",
      "5 -1854.4147212214273\n",
      "6 -1731.034523081743\n"
     ]
    }
   ],
   "source": [
    "thetas = [1,2,3,4,5,6]\n",
    "for theta in thetas:\n",
    "    ### ваш код здесь\n",
    "    summ = 0.\n",
    "    for val in results:\n",
    "        summ += np.log(2 / 7 if val == theta else 1 / 7)\n",
    "    print(theta, summ)"
   ]
  },
  {
   "cell_type": "markdown",
   "metadata": {},
   "source": [
    "\n",
    "<p>Давайте посмотрим на условные распределения на реальных данных. Датасет для этой задачи будет из игры World of Warcraft. В ней есть \"Поля боя\" (Battlegrounds), на которой сражаются две фракции: Альянс(Alliance) и Орда(Horde). Каждую фракцию представляют игроки, которые могут быть различными классами (колонка Class). Битвы происходили несколько раз на разных полях боя, идентификатор одного боя - это колонка \"Code\".  В колонках Win, Lose показано, кто победил.</p>\n"
   ]
  },
  {
   "cell_type": "code",
   "execution_count": 3,
   "metadata": {},
   "outputs": [
    {
     "data": {
      "text/html": [
       "<div>\n",
       "<style scoped>\n",
       "    .dataframe tbody tr th:only-of-type {\n",
       "        vertical-align: middle;\n",
       "    }\n",
       "\n",
       "    .dataframe tbody tr th {\n",
       "        vertical-align: top;\n",
       "    }\n",
       "\n",
       "    .dataframe thead th {\n",
       "        text-align: right;\n",
       "    }\n",
       "</style>\n",
       "<table border=\"1\" class=\"dataframe\">\n",
       "  <thead>\n",
       "    <tr style=\"text-align: right;\">\n",
       "      <th></th>\n",
       "      <th>Battleground</th>\n",
       "      <th>Code</th>\n",
       "      <th>Faction</th>\n",
       "      <th>Class</th>\n",
       "      <th>KB</th>\n",
       "      <th>D</th>\n",
       "      <th>HK</th>\n",
       "      <th>DD</th>\n",
       "      <th>HD</th>\n",
       "      <th>Honor</th>\n",
       "      <th>Win</th>\n",
       "      <th>Lose</th>\n",
       "      <th>Rol</th>\n",
       "      <th>BE</th>\n",
       "    </tr>\n",
       "  </thead>\n",
       "  <tbody>\n",
       "    <tr>\n",
       "      <th>0</th>\n",
       "      <td>WG</td>\n",
       "      <td>WG1</td>\n",
       "      <td>Horde</td>\n",
       "      <td>Hunter</td>\n",
       "      <td>1</td>\n",
       "      <td>3</td>\n",
       "      <td>14</td>\n",
       "      <td>48155</td>\n",
       "      <td>6641</td>\n",
       "      <td>532</td>\n",
       "      <td>1.0</td>\n",
       "      <td>NaN</td>\n",
       "      <td>dps</td>\n",
       "      <td>NaN</td>\n",
       "    </tr>\n",
       "    <tr>\n",
       "      <th>1</th>\n",
       "      <td>WG</td>\n",
       "      <td>WG1</td>\n",
       "      <td>Horde</td>\n",
       "      <td>Death Knight</td>\n",
       "      <td>1</td>\n",
       "      <td>3</td>\n",
       "      <td>12</td>\n",
       "      <td>27025</td>\n",
       "      <td>7106</td>\n",
       "      <td>377</td>\n",
       "      <td>1.0</td>\n",
       "      <td>NaN</td>\n",
       "      <td>dps</td>\n",
       "      <td>NaN</td>\n",
       "    </tr>\n",
       "    <tr>\n",
       "      <th>2</th>\n",
       "      <td>WG</td>\n",
       "      <td>WG1</td>\n",
       "      <td>Alliance</td>\n",
       "      <td>Paladin</td>\n",
       "      <td>0</td>\n",
       "      <td>1</td>\n",
       "      <td>19</td>\n",
       "      <td>824</td>\n",
       "      <td>93879</td>\n",
       "      <td>252</td>\n",
       "      <td>NaN</td>\n",
       "      <td>1.0</td>\n",
       "      <td>heal</td>\n",
       "      <td>NaN</td>\n",
       "    </tr>\n",
       "    <tr>\n",
       "      <th>3</th>\n",
       "      <td>WG</td>\n",
       "      <td>WG1</td>\n",
       "      <td>Alliance</td>\n",
       "      <td>Paladin</td>\n",
       "      <td>1</td>\n",
       "      <td>2</td>\n",
       "      <td>25</td>\n",
       "      <td>7046</td>\n",
       "      <td>98599</td>\n",
       "      <td>274</td>\n",
       "      <td>NaN</td>\n",
       "      <td>1.0</td>\n",
       "      <td>heal</td>\n",
       "      <td>NaN</td>\n",
       "    </tr>\n",
       "    <tr>\n",
       "      <th>4</th>\n",
       "      <td>WG</td>\n",
       "      <td>WG1</td>\n",
       "      <td>Alliance</td>\n",
       "      <td>Rogue</td>\n",
       "      <td>2</td>\n",
       "      <td>3</td>\n",
       "      <td>23</td>\n",
       "      <td>65483</td>\n",
       "      <td>19629</td>\n",
       "      <td>268</td>\n",
       "      <td>NaN</td>\n",
       "      <td>1.0</td>\n",
       "      <td>dps</td>\n",
       "      <td>NaN</td>\n",
       "    </tr>\n",
       "  </tbody>\n",
       "</table>\n",
       "</div>"
      ],
      "text/plain": [
       "  Battleground Code   Faction         Class  KB  D  HK     DD     HD  Honor  \\\n",
       "0           WG  WG1     Horde        Hunter   1  3  14  48155   6641    532   \n",
       "1           WG  WG1     Horde  Death Knight   1  3  12  27025   7106    377   \n",
       "2           WG  WG1  Alliance       Paladin   0  1  19    824  93879    252   \n",
       "3           WG  WG1  Alliance       Paladin   1  2  25   7046  98599    274   \n",
       "4           WG  WG1  Alliance         Rogue   2  3  23  65483  19629    268   \n",
       "\n",
       "   Win  Lose   Rol  BE  \n",
       "0  1.0   NaN   dps NaN  \n",
       "1  1.0   NaN   dps NaN  \n",
       "2  NaN   1.0  heal NaN  \n",
       "3  NaN   1.0  heal NaN  \n",
       "4  NaN   1.0   dps NaN  "
      ]
     },
     "execution_count": 3,
     "metadata": {},
     "output_type": "execute_result"
    }
   ],
   "source": [
    "data = pd.read_csv('wowbgs2.csv')\n",
    "data.head()"
   ]
  },
  {
   "cell_type": "markdown",
   "metadata": {},
   "source": [
    "\n",
    "<p>Колонка DD показывает, сколько персонаж нанёс урона. Колонка HD - сколько персонаж вылечил здоровья.</p>\n"
   ]
  },
  {
   "cell_type": "markdown",
   "metadata": {},
   "source": [
    "\n",
    "<h4 id=\"Задание:\">Задание:<a class=\"anchor-link\" href=\"#Задание:\">¶</a></h4><p>На вход подаётся несколько значений урона для какого-то персонажа. Ваша задача с помощью теорема Байеса определить, к кому, скорее всего, принадлежат данные цифры.</p>\n",
    "<ol>\n",
    "<li>В данном случае $A_j$ - это класс игрока, а $B$ - его урон. Вам нужно найти $P(A_j|B)$</li>\n",
    "<li>Когда будете считать $P(B|A_j)$ можете просто пройтись по датасету и найти кол-во всех значений, которые лежат на интервале (B - 1000, B + 1000)</li>\n",
    "</ol>\n"
   ]
  },
  {
   "cell_type": "code",
   "execution_count": 4,
   "metadata": {},
   "outputs": [
    {
     "data": {
      "text/plain": [
       "array(['Battleground', 'Code', 'Faction', 'Class', 'KB', 'D', 'HK', 'DD',\n",
       "       'HD', 'Honor', 'Win', 'Lose', 'Rol', 'BE'], dtype=object)"
      ]
     },
     "execution_count": 4,
     "metadata": {},
     "output_type": "execute_result"
    }
   ],
   "source": [
    "data.columns.values"
   ]
  },
  {
   "cell_type": "code",
   "execution_count": 85,
   "metadata": {},
   "outputs": [],
   "source": [
    "def P_B_Ai(B,Aj,data):\n",
    "    tes =data[(data['DD']<(B+1000)) & (data['DD']>(B-1000))]\n",
    "    if len(tes)==0 or len(tes[tes['Class']==Aj])==0:\n",
    "        return 1\n",
    "    return len(tes[tes['Class']==Aj])*1000/len(tes) #numbers in future can be small so python thinks it's near to null"
   ]
  },
  {
   "cell_type": "code",
   "execution_count": 86,
   "metadata": {},
   "outputs": [],
   "source": [
    "def P_Aj_B(Aj,B,data):\n",
    "    delt = 1\n",
    "    for i in set(data['Class']):\n",
    "        delt*=P_B_Ai(B,i,data)\n",
    "        var = data[data['Class']==i]\n",
    "        delt*=var.shape[0]\n",
    "    return (data[data['Class']==Aj].shape[0])*P_B_Ai(B,Aj,data)*1000/delt"
   ]
  },
  {
   "cell_type": "code",
   "execution_count": 88,
   "metadata": {},
   "outputs": [
    {
     "name": "stdout",
     "output_type": "stream",
     "text": [
      "Warrior\n"
     ]
    }
   ],
   "source": [
    "B = 50000\n",
    "max_ver = 0\n",
    "class_j = -1\n",
    "for i in set(data['Class']):\n",
    "    P_j_b = P_Aj_B(i,B,data)\n",
    "    if P_j_b>max_ver:\n",
    "        max_ver = P_j_b\n",
    "        class_j = i\n",
    "print(class_j)"
   ]
  },
  {
   "cell_type": "markdown",
   "metadata": {},
   "source": [
    "\n",
    "<h3 id=\"Наивный-Байес\">Наивный Байес<a class=\"anchor-link\" href=\"#Наивный-Байес\">¶</a></h3>\n"
   ]
  },
  {
   "cell_type": "markdown",
   "metadata": {},
   "source": [
    "\n",
    "<p>Пусть у нас есть обучающая выборка $X=(x_1,...x_N)$, каждый объект имеет $m$ признаков $w_1,...w_m$. И пусть мы решаем задачу классификации, т.е. в качестве ответа у нас есть $c$ классов. Наивный байесовский классификатор решает задачу следующим образом:\n",
    "$$classify(w_1,...,w_n) = argmax_c\\{P(c)\\prod_{i=1}^{m}P(w_i|c)\\}$$</p>\n"
   ]
  },
  {
   "cell_type": "markdown",
   "metadata": {},
   "source": [
    "\n",
    "<p>Датасет для этой задачи будет из игры World of Warcraft. В ней есть \"Поля боя\" (Battlegrounds), на которой сражаются две фракции: Альянс(Alliance) и Орда(Horde). Каждую фракцию представляют игроки, которые могут быть различными классами (колонка Class). Битвы происходили несколько раз на разных полях боя, идентификатор одного боя - это колонка \"Code\".  В колонках Win, Lose показано, кто победил.</p>\n"
   ]
  },
  {
   "cell_type": "markdown",
   "metadata": {},
   "source": [
    "\n",
    "<p>Допустим, начинается битва. Мы знаем, кто в нашей команде. Наша цель, понять, кто победит. В качестве признаков мы будем использовать кол-во каждого класса в каждой из команд. Я модифицировал датасет для этой задачи. Каждая строка - это отдельная битва. Колонки - это кол-во классов за каждую из фракций. target: 1 - победила Орда, 0 - победил Альянс</p>\n"
   ]
  },
  {
   "cell_type": "code",
   "execution_count": 3,
   "metadata": {},
   "outputs": [
    {
     "data": {
      "text/html": [
       "<div>\n",
       "<style scoped>\n",
       "    .dataframe tbody tr th:only-of-type {\n",
       "        vertical-align: middle;\n",
       "    }\n",
       "\n",
       "    .dataframe tbody tr th {\n",
       "        vertical-align: top;\n",
       "    }\n",
       "\n",
       "    .dataframe thead th {\n",
       "        text-align: right;\n",
       "    }\n",
       "</style>\n",
       "<table border=\"1\" class=\"dataframe\">\n",
       "  <thead>\n",
       "    <tr style=\"text-align: right;\">\n",
       "      <th></th>\n",
       "      <th>Code</th>\n",
       "      <th>Faction</th>\n",
       "      <th>Class</th>\n",
       "      <th>KB</th>\n",
       "      <th>D</th>\n",
       "      <th>HK</th>\n",
       "      <th>DD</th>\n",
       "      <th>HD</th>\n",
       "      <th>Honor</th>\n",
       "      <th>Win</th>\n",
       "      <th>Lose</th>\n",
       "      <th>Rol</th>\n",
       "      <th>BE</th>\n",
       "    </tr>\n",
       "    <tr>\n",
       "      <th>Battleground</th>\n",
       "      <th></th>\n",
       "      <th></th>\n",
       "      <th></th>\n",
       "      <th></th>\n",
       "      <th></th>\n",
       "      <th></th>\n",
       "      <th></th>\n",
       "      <th></th>\n",
       "      <th></th>\n",
       "      <th></th>\n",
       "      <th></th>\n",
       "      <th></th>\n",
       "      <th></th>\n",
       "    </tr>\n",
       "  </thead>\n",
       "  <tbody>\n",
       "    <tr>\n",
       "      <th>WG</th>\n",
       "      <td>WG1</td>\n",
       "      <td>Horde</td>\n",
       "      <td>Hunter</td>\n",
       "      <td>1</td>\n",
       "      <td>3</td>\n",
       "      <td>14</td>\n",
       "      <td>48155</td>\n",
       "      <td>6641</td>\n",
       "      <td>532</td>\n",
       "      <td>1.0</td>\n",
       "      <td>NaN</td>\n",
       "      <td>dps</td>\n",
       "      <td>NaN</td>\n",
       "    </tr>\n",
       "    <tr>\n",
       "      <th>WG</th>\n",
       "      <td>WG1</td>\n",
       "      <td>Horde</td>\n",
       "      <td>Death Knight</td>\n",
       "      <td>1</td>\n",
       "      <td>3</td>\n",
       "      <td>12</td>\n",
       "      <td>27025</td>\n",
       "      <td>7106</td>\n",
       "      <td>377</td>\n",
       "      <td>1.0</td>\n",
       "      <td>NaN</td>\n",
       "      <td>dps</td>\n",
       "      <td>NaN</td>\n",
       "    </tr>\n",
       "    <tr>\n",
       "      <th>WG</th>\n",
       "      <td>WG1</td>\n",
       "      <td>Alliance</td>\n",
       "      <td>Paladin</td>\n",
       "      <td>0</td>\n",
       "      <td>1</td>\n",
       "      <td>19</td>\n",
       "      <td>824</td>\n",
       "      <td>93879</td>\n",
       "      <td>252</td>\n",
       "      <td>NaN</td>\n",
       "      <td>1.0</td>\n",
       "      <td>heal</td>\n",
       "      <td>NaN</td>\n",
       "    </tr>\n",
       "    <tr>\n",
       "      <th>WG</th>\n",
       "      <td>WG1</td>\n",
       "      <td>Alliance</td>\n",
       "      <td>Paladin</td>\n",
       "      <td>1</td>\n",
       "      <td>2</td>\n",
       "      <td>25</td>\n",
       "      <td>7046</td>\n",
       "      <td>98599</td>\n",
       "      <td>274</td>\n",
       "      <td>NaN</td>\n",
       "      <td>1.0</td>\n",
       "      <td>heal</td>\n",
       "      <td>NaN</td>\n",
       "    </tr>\n",
       "    <tr>\n",
       "      <th>WG</th>\n",
       "      <td>WG1</td>\n",
       "      <td>Alliance</td>\n",
       "      <td>Rogue</td>\n",
       "      <td>2</td>\n",
       "      <td>3</td>\n",
       "      <td>23</td>\n",
       "      <td>65483</td>\n",
       "      <td>19629</td>\n",
       "      <td>268</td>\n",
       "      <td>NaN</td>\n",
       "      <td>1.0</td>\n",
       "      <td>dps</td>\n",
       "      <td>NaN</td>\n",
       "    </tr>\n",
       "  </tbody>\n",
       "</table>\n",
       "</div>"
      ],
      "text/plain": [
       "             Code   Faction         Class  KB  D  HK     DD     HD  Honor  \\\n",
       "Battleground                                                                \n",
       "WG            WG1     Horde        Hunter   1  3  14  48155   6641    532   \n",
       "WG            WG1     Horde  Death Knight   1  3  12  27025   7106    377   \n",
       "WG            WG1  Alliance       Paladin   0  1  19    824  93879    252   \n",
       "WG            WG1  Alliance       Paladin   1  2  25   7046  98599    274   \n",
       "WG            WG1  Alliance         Rogue   2  3  23  65483  19629    268   \n",
       "\n",
       "              Win  Lose   Rol  BE  \n",
       "Battleground                       \n",
       "WG            1.0   NaN   dps NaN  \n",
       "WG            1.0   NaN   dps NaN  \n",
       "WG            NaN   1.0  heal NaN  \n",
       "WG            NaN   1.0  heal NaN  \n",
       "WG            NaN   1.0   dps NaN  "
      ]
     },
     "execution_count": 3,
     "metadata": {},
     "output_type": "execute_result"
    }
   ],
   "source": [
    "df = pd.read_csv(\"wowbgs2.csv\", index_col=0)\n",
    "df.head()"
   ]
  },
  {
   "cell_type": "code",
   "execution_count": 4,
   "metadata": {},
   "outputs": [],
   "source": [
    "df = df.drop('Lose',1)"
   ]
  },
  {
   "cell_type": "code",
   "execution_count": 5,
   "metadata": {},
   "outputs": [],
   "source": [
    "df['Win'] = df['Win'].replace(np.NaN,0)\n",
    "df['Win'] = df['Win'].replace(1.0,1)"
   ]
  },
  {
   "cell_type": "code",
   "execution_count": 6,
   "metadata": {},
   "outputs": [],
   "source": [
    "def normalize(df,name,count = 1000):\n",
    "    dd1 = df[name]\n",
    "    print(name,' ',max(dd1)-min(dd1))\n",
    "    dd = np.array([0]*len(dd1))\n",
    "    \n",
    "    for i in range(len(dd1)):\n",
    "        dd[i]=  round((dd1[i]-min(dd1))/count)\n",
    "    df[name] = dd\n",
    "    return df"
   ]
  },
  {
   "cell_type": "code",
   "execution_count": 7,
   "metadata": {},
   "outputs": [
    {
     "name": "stdout",
     "output_type": "stream",
     "text": [
      "DD   246000\n",
      "HD   325000\n",
      "Honor   1217\n"
     ]
    }
   ],
   "source": [
    "names = ['DD','HD','Honor']\n",
    "for name in names:\n",
    "    df = normalize(df,name,int((max(df[name])-min(df[name]))/100))"
   ]
  },
  {
   "cell_type": "code",
   "execution_count": 14,
   "metadata": {},
   "outputs": [
    {
     "name": "stdout",
     "output_type": "stream",
     "text": [
      "[20 11  0 ... 16 22  5]\n",
      "[ 2  2 29 ...  3  6  6]\n",
      "[43 30 20 ... 22 22 23]\n"
     ]
    }
   ],
   "source": [
    "nmaes = ['Code','Faction','Class','Rol']\n",
    "for name in names:\n",
    "    replaces = {list(set(df[name]))[i]: i for i in range(len(set(df[name])))}\n",
    "    row = df[name]\n",
    "    new_row = np.array([0]*len(row))\n",
    "    for i in range(len(row)):\n",
    "        new_row[i] = replaces[row[i]]\n",
    "    print(new_row)\n",
    "    df[name] = new_row"
   ]
  },
  {
   "cell_type": "code",
   "execution_count": 15,
   "metadata": {},
   "outputs": [
    {
     "data": {
      "text/html": [
       "<div>\n",
       "<style scoped>\n",
       "    .dataframe tbody tr th:only-of-type {\n",
       "        vertical-align: middle;\n",
       "    }\n",
       "\n",
       "    .dataframe tbody tr th {\n",
       "        vertical-align: top;\n",
       "    }\n",
       "\n",
       "    .dataframe thead th {\n",
       "        text-align: right;\n",
       "    }\n",
       "</style>\n",
       "<table border=\"1\" class=\"dataframe\">\n",
       "  <thead>\n",
       "    <tr style=\"text-align: right;\">\n",
       "      <th></th>\n",
       "      <th>Code</th>\n",
       "      <th>Faction</th>\n",
       "      <th>Class</th>\n",
       "      <th>KB</th>\n",
       "      <th>D</th>\n",
       "      <th>HK</th>\n",
       "      <th>DD</th>\n",
       "      <th>HD</th>\n",
       "      <th>Honor</th>\n",
       "      <th>Win</th>\n",
       "      <th>Rol</th>\n",
       "      <th>BE</th>\n",
       "    </tr>\n",
       "    <tr>\n",
       "      <th>Battleground</th>\n",
       "      <th></th>\n",
       "      <th></th>\n",
       "      <th></th>\n",
       "      <th></th>\n",
       "      <th></th>\n",
       "      <th></th>\n",
       "      <th></th>\n",
       "      <th></th>\n",
       "      <th></th>\n",
       "      <th></th>\n",
       "      <th></th>\n",
       "      <th></th>\n",
       "    </tr>\n",
       "  </thead>\n",
       "  <tbody>\n",
       "    <tr>\n",
       "      <th>WG</th>\n",
       "      <td>WG1</td>\n",
       "      <td>Horde</td>\n",
       "      <td>Hunter</td>\n",
       "      <td>1</td>\n",
       "      <td>3</td>\n",
       "      <td>14</td>\n",
       "      <td>20</td>\n",
       "      <td>2</td>\n",
       "      <td>43</td>\n",
       "      <td>1.0</td>\n",
       "      <td>dps</td>\n",
       "      <td>NaN</td>\n",
       "    </tr>\n",
       "    <tr>\n",
       "      <th>WG</th>\n",
       "      <td>WG1</td>\n",
       "      <td>Horde</td>\n",
       "      <td>Death Knight</td>\n",
       "      <td>1</td>\n",
       "      <td>3</td>\n",
       "      <td>12</td>\n",
       "      <td>11</td>\n",
       "      <td>2</td>\n",
       "      <td>30</td>\n",
       "      <td>1.0</td>\n",
       "      <td>dps</td>\n",
       "      <td>NaN</td>\n",
       "    </tr>\n",
       "    <tr>\n",
       "      <th>WG</th>\n",
       "      <td>WG1</td>\n",
       "      <td>Alliance</td>\n",
       "      <td>Paladin</td>\n",
       "      <td>0</td>\n",
       "      <td>1</td>\n",
       "      <td>19</td>\n",
       "      <td>0</td>\n",
       "      <td>29</td>\n",
       "      <td>20</td>\n",
       "      <td>0.0</td>\n",
       "      <td>heal</td>\n",
       "      <td>NaN</td>\n",
       "    </tr>\n",
       "    <tr>\n",
       "      <th>WG</th>\n",
       "      <td>WG1</td>\n",
       "      <td>Alliance</td>\n",
       "      <td>Paladin</td>\n",
       "      <td>1</td>\n",
       "      <td>2</td>\n",
       "      <td>25</td>\n",
       "      <td>3</td>\n",
       "      <td>30</td>\n",
       "      <td>22</td>\n",
       "      <td>0.0</td>\n",
       "      <td>heal</td>\n",
       "      <td>NaN</td>\n",
       "    </tr>\n",
       "    <tr>\n",
       "      <th>WG</th>\n",
       "      <td>WG1</td>\n",
       "      <td>Alliance</td>\n",
       "      <td>Rogue</td>\n",
       "      <td>2</td>\n",
       "      <td>3</td>\n",
       "      <td>23</td>\n",
       "      <td>27</td>\n",
       "      <td>6</td>\n",
       "      <td>21</td>\n",
       "      <td>0.0</td>\n",
       "      <td>dps</td>\n",
       "      <td>NaN</td>\n",
       "    </tr>\n",
       "  </tbody>\n",
       "</table>\n",
       "</div>"
      ],
      "text/plain": [
       "             Code   Faction         Class  KB  D  HK  DD  HD  Honor  Win  \\\n",
       "Battleground                                                               \n",
       "WG            WG1     Horde        Hunter   1  3  14  20   2     43  1.0   \n",
       "WG            WG1     Horde  Death Knight   1  3  12  11   2     30  1.0   \n",
       "WG            WG1  Alliance       Paladin   0  1  19   0  29     20  0.0   \n",
       "WG            WG1  Alliance       Paladin   1  2  25   3  30     22  0.0   \n",
       "WG            WG1  Alliance         Rogue   2  3  23  27   6     21  0.0   \n",
       "\n",
       "               Rol  BE  \n",
       "Battleground            \n",
       "WG             dps NaN  \n",
       "WG             dps NaN  \n",
       "WG            heal NaN  \n",
       "WG            heal NaN  \n",
       "WG             dps NaN  "
      ]
     },
     "execution_count": 15,
     "metadata": {},
     "output_type": "execute_result"
    }
   ],
   "source": [
    "df.head()"
   ]
  },
  {
   "cell_type": "markdown",
   "metadata": {},
   "source": [
    "\n",
    "<p>Большая часть классификатора написана. Нужно написать функцию predict.</p>\n"
   ]
  },
  {
   "cell_type": "code",
   "execution_count": 9,
   "metadata": {},
   "outputs": [],
   "source": [
    "def make_dict(arr):\n",
    "    dicta = {}\n",
    "    for i in arr:\n",
    "        if dicta.get(i)==None:\n",
    "            dicta.update({i:1})\n",
    "        else:\n",
    "            dicta.update({i:dicta.get(i)+1})\n",
    "    return dicta"
   ]
  },
  {
   "cell_type": "code",
   "execution_count": 10,
   "metadata": {},
   "outputs": [],
   "source": [
    "from math import log\n",
    "class NaiveBaies():    \n",
    "    def fit(self, X, y):\n",
    "        # Список классов\n",
    "        for i in range(len(y)):\n",
    "            y[i]=int(y[i])\n",
    "        self.classes = np.unique(y)\n",
    "        # Сохраним кол-во классов\n",
    "        self.cls_counts = len(set(y))\n",
    "        \n",
    "        # Сохраним для каждого значения признака кол-во таких объектов (P(w_i|c)), чтобы потом было легче обучаться\n",
    "        # self.feature_counts[cls][column_idx][i] - 1+ кол-во элементов в обучающей выборке, с классом cls, у которых\n",
    "        # признак под номером column_idx равен i\n",
    "        self.feature_counts = {}\n",
    "        for cls in self.classes:\n",
    "            cur_feature_counts = {}\n",
    "            for j in range(X.shape[1]):\n",
    "                # Добавим ко всем значениям единицу, чтобы не было нулей в вероятностях\n",
    "                arr = X[y == cls][j]\n",
    "                arr  = make_dict(arr)\n",
    "                cur_feature_counts[j] = arr\n",
    "            self.feature_counts[cls] = cur_feature_counts\n",
    "        return self\n",
    "        \n",
    "    def predict(self, X_test):\n",
    "        preds = []\n",
    "        for i in range(len(X_test)):\n",
    "            line = X_test[i]\n",
    "            count = 0\n",
    "            key = 0.0\n",
    "            for cls in self.classes:\n",
    "                ans = log(sum(self.feature_counts[cls]))\n",
    "                for j in range(len(line)):\n",
    "                    ans*= self.feature_counts.get(cls,1).get(j,1).get(line[j],1)\n",
    "                if ans>=count:\n",
    "                    count = ans\n",
    "                    key = cls\n",
    "            preds.append(key)\n",
    "        return preds"
   ]
  },
  {
   "cell_type": "code",
   "execution_count": 11,
   "metadata": {},
   "outputs": [],
   "source": [
    "from sklearn.model_selection import KFold\n",
    "\n",
    "kf = KFold(n_splits=4, random_state=42, shuffle=True)   "
   ]
  },
  {
   "cell_type": "markdown",
   "metadata": {},
   "source": [
    "\n",
    "<p>Можно попробовать и логистическую регрессию.</p>\n"
   ]
  },
  {
   "cell_type": "code",
   "execution_count": 13,
   "metadata": {},
   "outputs": [
    {
     "name": "stdout",
     "output_type": "stream",
     "text": [
      "0.5111441307578009\n",
      "0.45988112927191677\n",
      "0.5297176820208024\n",
      "0.5174721189591078\n"
     ]
    }
   ],
   "source": [
    "for train, test in kf.split(df):\n",
    "    df_train = df.iloc[train]\n",
    "    df_test = df.iloc[test]\n",
    "    X_train, y_train = df_train.drop(\"Win\", axis=1).values, df_train[\"Win\"].values\n",
    "    X_test, y_test = df_test.drop(\"Win\", axis=1).values, df_test[\"Win\"].values\n",
    "\n",
    "    clf = NaiveBaies()\n",
    "    clf.fit(X_train, y_train)\n",
    "    preds = clf.predict(X_test)\n",
    "    summ= 0\n",
    "    for i in range (len(preds)):\n",
    "        if preds[i]==y_test[i]:\n",
    "            summ+=1\n",
    "    print(summ/len(preds))"
   ]
  },
  {
   "cell_type": "code",
   "execution_count": 16,
   "metadata": {},
   "outputs": [],
   "source": [
    "names = ['KB', 'D', 'HK', 'DD', 'HD', 'Honor', 'Win' ,'BE']\n",
    "for name in names:\n",
    "    df[name].fillna(int(df[name].mean()), inplace=True)"
   ]
  },
  {
   "cell_type": "code",
   "execution_count": 21,
   "metadata": {},
   "outputs": [
    {
     "data": {
      "text/plain": [
       "array([0.93387816, 0.91381872, 0.89598811, 0.8929368 ])"
      ]
     },
     "execution_count": 21,
     "metadata": {},
     "output_type": "execute_result"
    }
   ],
   "source": [
    "from sklearn.model_selection import cross_val_score\n",
    "from sklearn.linear_model import LogisticRegression\n",
    "\n",
    "df = df.drop('Code',1)\n",
    "df = df.drop('Faction',1)\n",
    "df = df.drop('Class',1)\n",
    "df = df.drop('Rol',1)\n",
    "\n",
    "cross_val_score(LogisticRegression(), df.drop(\"Win\", axis=1).values, df[\"Win\"].values, scoring=\"accuracy\", cv=4)"
   ]
  }
 ],
 "metadata": {
  "kernelspec": {
   "display_name": "Python 3",
   "language": "python",
   "name": "python3"
  },
  "language_info": {
   "codemirror_mode": {
    "name": "ipython",
    "version": 3
   },
   "file_extension": ".py",
   "mimetype": "text/x-python",
   "name": "python",
   "nbconvert_exporter": "python",
   "pygments_lexer": "ipython3",
   "version": "3.6.5"
  }
 },
 "nbformat": 4,
 "nbformat_minor": 1
}
